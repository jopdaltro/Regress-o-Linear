{
 "cells": [
  {
   "cell_type": "code",
   "execution_count": 1,
   "id": "7f93c919",
   "metadata": {},
   "outputs": [],
   "source": [
    "import matplotlib.pyplot as plt\n",
    "\n",
    "\n",
    "## base de dados a ser estudade y = variavel dependente e x = variavel independente\n",
    "y = [137, 137, 137, 136, 135, 135, 133, 132, 133, 133, 128, 124, 126, 129, 126, 122, 122, 122, 119, 122 ]\n",
    "x = [220, 220, 220, 220, 220, 225, 225, 225, 225, 225, 230, 230, 230, 230, 230, 235, 235, 235, 235, 235 ]\n"
   ]
  },
  {
   "cell_type": "code",
   "execution_count": 2,
   "id": "218acf5e",
   "metadata": {},
   "outputs": [],
   "source": [
    "#Função que caluclua o quadrado do somatorio dos Xi para usar na equação da regressão linear\n",
    "def quadrado(lista):\n",
    "    soma = 0\n",
    "    for i in lista:\n",
    "        soma = soma + i**2\n",
    "    return soma    "
   ]
  },
  {
   "cell_type": "code",
   "execution_count": 3,
   "id": "1f040b99",
   "metadata": {},
   "outputs": [],
   "source": [
    "#Função que caluclua o somatorio de Xi*Yi para usar na equação da regressão linear\n",
    "def somatorio_XiYi(lista1,lista2):\n",
    "    soma = 0\n",
    "    i = 0\n",
    "    for numero in lista1:\n",
    "         soma = soma + lista1[i]*lista2[i]\n",
    "         i = i + 1\n",
    "    return soma"
   ]
  },
  {
   "cell_type": "code",
   "execution_count": 4,
   "id": "57a07e56",
   "metadata": {},
   "outputs": [],
   "source": [
    "#Função para calcular a Soma Total dos Resíduos (SQR)\n",
    "def sqr (a,b):\n",
    "    soma = 0\n",
    "    i = 0\n",
    "    for numero in a:\n",
    "        soma = soma + (a[i]-b[i])**2\n",
    "        i = i +1\n",
    "    return soma"
   ]
  },
  {
   "cell_type": "code",
   "execution_count": 5,
   "id": "8ebc6e11",
   "metadata": {},
   "outputs": [],
   "source": [
    "#Função para calcular a Soma Total dos Quadrados (STQ)\n",
    "def sqt (a):\n",
    "    soma = 0\n",
    "    i = 0\n",
    "    for numero in a:\n",
    "        soma = soma + (a[i]-sum(a)/len(a))**2\n",
    "        i = i+1\n",
    "    return soma"
   ]
  },
  {
   "cell_type": "code",
   "execution_count": 6,
   "id": "856c81ce",
   "metadata": {},
   "outputs": [],
   "source": [
    "######### Regrassão lienar #######\n",
    "\n",
    "#alumas funções de somatorio ja são implmentados nos arrays no python, que faz com que a gente não precise fazer a função\n",
    "#para calcular o somatorio dos Xis por exemplo. \n",
    "#sum -> retorna a soma de todos valores do vetor\n",
    "#len -> retorna o tamanho de um vetor#\n",
    "\n",
    "#Calculo do coeficiente angular de acordo com a formula da teoria.\n",
    "coeficienteAngular = (sum(x)*sum(y)- len(x)*somatorio_XiYi(x,y))/((sum(x))**2 - len(x)*quadrado(x))\n",
    "\n",
    "#Calculo do coeficiente linear de acordo com a formula da teoria.\n",
    "coeficienteLinear = (somatorio_XiYi(x,y)*sum(x)- quadrado(x)*sum(y))/((sum(x))**2 - len(x)*quadrado(x))"
   ]
  },
  {
   "cell_type": "code",
   "execution_count": 7,
   "id": "11d4008a",
   "metadata": {},
   "outputs": [
    {
     "name": "stdout",
     "output_type": "stream",
     "text": [
      "A =  -1.032\n",
      "B =  364.18\n"
     ]
    }
   ],
   "source": [
    "print(\"A = \",coeficienteAngular)\n",
    "print(\"B = \",coeficienteLinear)"
   ]
  },
  {
   "cell_type": "code",
   "execution_count": 8,
   "id": "ad5916da",
   "metadata": {},
   "outputs": [],
   "source": [
    "##### criando um array pra armazenar os novos valores de Y do reauste\n",
    "yArrumado = []\n",
    "#Criando um nova função 'y' (Reajustado)  aparti dos coeficientes obtidos, e armazenando no array acima\n",
    "for i in x:\n",
    "    Y = coeficienteAngular*i + coeficienteLinear\n",
    "    yArrumado.append(Y)\n"
   ]
  },
  {
   "cell_type": "code",
   "execution_count": 9,
   "id": "fee31069",
   "metadata": {},
   "outputs": [
    {
     "name": "stdout",
     "output_type": "stream",
     "text": [
      "Equação da reta: Y = -1.03X + 364.18\n",
      "Soma Total dos Quadrados (STQ): 706.80\n",
      "Soma dos Quadrados dos Resíduos 41.16:\n",
      "R^2 =0.94\n"
     ]
    }
   ],
   "source": [
    "#printando as informações da resta e reajustes.    \n",
    "print(f\"Equação da reta: Y = {coeficienteAngular:.2f}X + {coeficienteLinear:.2f}\")\n",
    "print(f\"Soma Total dos Quadrados (STQ): {sqt(y):.2f}\")\n",
    "print(f\"Soma dos Quadrados dos Resíduos {sqr(y,yArrumado):.2f}:\")\n",
    "print(f\"R^2 ={1-sqr(y,yArrumado)/sqt(y):.2f}\")\n"
   ]
  },
  {
   "cell_type": "code",
   "execution_count": 10,
   "id": "85739499",
   "metadata": {},
   "outputs": [
    {
     "data": {
      "image/png": "[encoded data removed]",
      "text/plain": [
       "<Figure size 640x480 with 1 Axes>"
      ]
     },
     "metadata": {},
     "output_type": "display_data"
    }
   ],
   "source": [
    "\n",
    "##plotando os pontos originais em vermelho, e a regressão linear em verde pontilhado \n",
    "plt.plot(x,y,'ro')\n",
    "plt.plot(x,yArrumado,'g--')\n",
    "plt.show()"
   ]
  }
 ],
 "metadata": {
  "kernelspec": {
   "display_name": "Python 3 (ipykernel)",
   "language": "python",
   "name": "python3"
  },
  "language_info": {
   "codemirror_mode": {
    "name": "ipython",
    "version": 3
   },
   "file_extension": ".py",
   "mimetype": "text/x-python",
   "name": "python",
   "nbconvert_exporter": "python",
   "pygments_lexer": "ipython3",
   "version": "3.10.6"
  }
 },
 "nbformat": 4,
 "nbformat_minor": 5
}
